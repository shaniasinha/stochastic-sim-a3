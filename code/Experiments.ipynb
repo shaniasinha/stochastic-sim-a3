{
 "cells": [
  {
   "cell_type": "code",
   "execution_count": 4,
   "metadata": {},
   "outputs": [],
   "source": [
    "import numpy as np\n",
    "import matplotlib.pyplot as plt"
   ]
  },
  {
   "cell_type": "code",
   "execution_count": 35,
   "metadata": {},
   "outputs": [],
   "source": [
    "from code.classes.parser import AnnealingParameters\n",
    "from code.classes.solver import Solver\n",
    "from code.classes.visualizer import Visualizer\n",
    "from code.functions import * # Feel free to add functions within this file "
   ]
  },
  {
   "cell_type": "code",
   "execution_count": null,
   "metadata": {},
   "outputs": [],
   "source": [
    "np.random.seed(50)\n",
    "\n",
    "if __name__ == '__main__':\n",
    "\n",
    "    ################################################\n",
    "    # Example of how to run the solver and visualizer\n",
    "    ################################################\n",
    "\n",
    "    #parameters\n",
    "    params1 = AnnealingParameters(\n",
    "        problem_set='a280',\n",
    "        save_data=True,\n",
    "        folder_name='a280_test_10_exp',\n",
    "        initial_temperature=150,\n",
    "        cooling_rate=0.99,\n",
    "        markov_chain_length=600,\n",
    "        num_markov_chains=1000,\n",
    "    )\n",
    "\n",
    "    # create board and solve the problem\n",
    "    solver1 = Solver(params1)\n",
    "    solver1.simulated_annealing_exp_cooling()\n",
    "\n",
    "    # functions you can use after the solver is finished\n",
    "    visualizer = Visualizer(solver=solver1)\n",
    "    visualizer.plot_final_solution()\n",
    "    visualizer.plot_summary() \n",
    "    #visualizer.plot_animation() this gives an annimation "
   ]
  }
 ],
 "metadata": {
  "kernelspec": {
   "display_name": "base",
   "language": "python",
   "name": "python3"
  },
  "language_info": {
   "codemirror_mode": {
    "name": "ipython",
    "version": 3
   },
   "file_extension": ".py",
   "mimetype": "text/x-python",
   "name": "python",
   "nbconvert_exporter": "python",
   "pygments_lexer": "ipython3",
   "version": "3.12.4"
  }
 },
 "nbformat": 4,
 "nbformat_minor": 2
}
